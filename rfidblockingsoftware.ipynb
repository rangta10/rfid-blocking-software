{
  "nbformat": 4,
  "nbformat_minor": 0,
  "metadata": {
    "colab": {
      "provenance": []
    },
    "kernelspec": {
      "name": "python3",
      "display_name": "Python 3"
    },
    "language_info": {
      "name": "python"
    }
  },
  "cells": [
    {
      "cell_type": "code",
      "execution_count": 5,
      "metadata": {
        "colab": {
          "base_uri": "https://localhost:8080/"
        },
        "id": "To9dP0zQ7h3f",
        "outputId": "1c8bb0e7-f2b1-4241-b00b-eed853fa414e"
      },
      "outputs": [
        {
          "output_type": "stream",
          "name": "stdout",
          "text": [
            "RFID Blocking Software - Monitoring for unauthorized scans...\n",
            "Press Ctrl+C to stop monitoring.\n",
            "No suspicious RFID activity detected.\n",
            "No suspicious RFID activity detected.\n",
            "No suspicious RFID activity detected.\n",
            "No suspicious RFID activity detected.\n",
            "No suspicious RFID activity detected.\n",
            "\n",
            "Monitoring stopped. Stay secure!\n"
          ]
        }
      ],
      "source": [
        "import time\n",
        "import random\n",
        "\n",
        "class RFIDBlockingSoftware:\n",
        "    \"\"\"\n",
        "    A simulated RFID Blocking Software to detect and prevent unauthorized RFID scans.\n",
        "    Monitors for suspicious scan attempts and alerts the user.\n",
        "    \"\"\"\n",
        "    def __init__(self):\n",
        "        self.scan_attempts = 0\n",
        "        self.max_attempts = 3  # Threshold for suspicious activity\n",
        "        self.time_window = 10  # Time window in seconds to track attempts\n",
        "        self.last_scan_time = time.time()\n",
        "        self.alerted = False\n",
        "\n",
        "    def simulate_rfid_scan(self):\n",
        "        \"\"\"\n",
        "        Simulates an RFID scan attempt. In a real scenario, this would interface with an RFID reader.\n",
        "        Returns True if a scan is detected, False otherwise.\n",
        "        \"\"\"\n",
        "        # Simulate a scan attempt (in reality, this would read from an RFID reader)\n",
        "        scan_detected = random.choice([True, False])\n",
        "        return scan_detected\n",
        "\n",
        "    def monitor_scans(self):\n",
        "        \"\"\"\n",
        "        Monitors for unauthorized RFID scan attempts and triggers alerts if suspicious.\n",
        "        Returns a message indicating the status.\n",
        "        \"\"\"\n",
        "        current_time = time.time()\n",
        "\n",
        "        # Reset scan attempts if the time window has passed\n",
        "        if current_time - self.last_scan_time > self.time_window:\n",
        "            self.scan_attempts = 0\n",
        "            self.alerted = False\n",
        "\n",
        "        # Simulate a scan attempt\n",
        "        if self.simulate_rfid_scan():\n",
        "            self.scan_attempts += 1\n",
        "            self.last_scan_time = current_time\n",
        "            print(f\"RFID scan detected! Total attempts in window: {self.scan_attempts}\")\n",
        "\n",
        "            # Check for suspicious activity\n",
        "            if self.scan_attempts >= self.max_attempts and not self.alerted:\n",
        "                self.alerted = True\n",
        "                return \"Alert: Potential unauthorized RFID scan detected! Protect your card.\"\n",
        "\n",
        "        return \"No suspicious RFID activity detected.\"\n",
        "\n",
        "def main():\n",
        "    \"\"\"\n",
        "    Main function to run the RFID Blocking Software simulation.\n",
        "    \"\"\"\n",
        "    print(\"RFID Blocking Software - Monitoring for unauthorized scans...\")\n",
        "    print(\"Press Ctrl+C to stop monitoring.\")\n",
        "\n",
        "    rfid_protector = RFIDBlockingSoftware()\n",
        "\n",
        "    try:\n",
        "        while True:\n",
        "            status = rfid_protector.monitor_scans()\n",
        "            print(status)\n",
        "            time.sleep(2)  # Check every 2 seconds\n",
        "    except KeyboardInterrupt:\n",
        "        print(\"\\nMonitoring stopped. Stay secure!\")\n",
        "\n",
        "if __name__ == \"__main__\":\n",
        "    main()"
      ]
    }
  ]
}